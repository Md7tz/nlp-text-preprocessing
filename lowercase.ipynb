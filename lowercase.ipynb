{
 "cells": [
  {
   "cell_type": "code",
   "execution_count": 1,
   "id": "ad36e566-18dc-4686-857d-6083092b0c95",
   "metadata": {},
   "outputs": [],
   "source": [
    "sentence = \"Her cat's name is Luna\""
   ]
  },
  {
   "cell_type": "code",
   "execution_count": 2,
   "id": "31dbfb16-2623-4404-865e-e6f9302cbfc4",
   "metadata": {},
   "outputs": [],
   "source": [
    "lower_sentence = sentence.lower();"
   ]
  },
  {
   "cell_type": "code",
   "execution_count": 3,
   "id": "b2cfa1d2-e97b-4ee4-9bd0-e2d4d7c34edf",
   "metadata": {},
   "outputs": [
    {
     "data": {
      "text/plain": [
       "\"her cat's name is luna\""
      ]
     },
     "execution_count": 3,
     "metadata": {},
     "output_type": "execute_result"
    }
   ],
   "source": [
    "lower_sentence"
   ]
  },
  {
   "cell_type": "code",
   "execution_count": 4,
   "id": "9cbfe471-4c0d-4957-a6f8-30a3f1d0f74b",
   "metadata": {},
   "outputs": [],
   "source": [
    "sentence_list = [\n",
    "    \"Could you pass me the TV remote\",\n",
    "    'It is IMPOSSIBLE to find this hotel',\n",
    "    \"\"\"Want to go for dinner on Tuesday?\"\"\"\n",
    "]"
   ]
  },
  {
   "cell_type": "code",
   "execution_count": 5,
   "id": "5dfe2279-ae11-4c0d-b7e4-865b59d4c5fb",
   "metadata": {},
   "outputs": [],
   "source": [
    "lower_sentence_list = [s.lower() for s in sentence_list]"
   ]
  },
  {
   "cell_type": "code",
   "execution_count": 7,
   "id": "44410bda-4328-4906-912f-440892f61836",
   "metadata": {},
   "outputs": [
    {
     "name": "stdout",
     "output_type": "stream",
     "text": [
      "['could you pass me the tv remote', 'it is impossible to find this hotel', 'want to go for dinner on tuesday?']\n"
     ]
    }
   ],
   "source": [
    "print(lower_sentence_list)"
   ]
  }
 ],
 "metadata": {
  "kernelspec": {
   "display_name": "Python 3 (ipykernel)",
   "language": "python",
   "name": "python3"
  },
  "language_info": {
   "codemirror_mode": {
    "name": "ipython",
    "version": 3
   },
   "file_extension": ".py",
   "mimetype": "text/x-python",
   "name": "python",
   "nbconvert_exporter": "python",
   "pygments_lexer": "ipython3",
   "version": "3.12.4"
  }
 },
 "nbformat": 4,
 "nbformat_minor": 5
}
