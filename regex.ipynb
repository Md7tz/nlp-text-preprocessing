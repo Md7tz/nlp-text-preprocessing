{
 "cells": [
  {
   "cell_type": "code",
   "execution_count": 1,
   "id": "addb3775-9f24-417f-a6f8-8b6e5fb331d3",
   "metadata": {},
   "outputs": [],
   "source": [
    "import re"
   ]
  },
  {
   "cell_type": "code",
   "execution_count": 3,
   "id": "670eafc5-b656-425d-b326-7d041ddcee2c",
   "metadata": {},
   "outputs": [
    {
     "name": "stdout",
     "output_type": "stream",
     "text": [
      "C:\\desktop\\notes\n"
     ]
    }
   ],
   "source": [
    "my_folder = r\"C:\\desktop\\notes\"\n",
    "print(my_folder)"
   ]
  },
  {
   "cell_type": "code",
   "execution_count": 4,
   "id": "a3c1d53d-84c9-485e-9f59-8223493b76ee",
   "metadata": {},
   "outputs": [],
   "source": [
    "result_search = re.search(\"pattern\", \"string to contain the pattern\")"
   ]
  },
  {
   "cell_type": "code",
   "execution_count": 11,
   "id": "89d374c5-7216-4d37-8adc-956dbc2c8857",
   "metadata": {},
   "outputs": [
    {
     "name": "stdout",
     "output_type": "stream",
     "text": [
      "<re.Match object; span=(22, 29), match='pattern'>\n"
     ]
    }
   ],
   "source": [
    "print(result_search)"
   ]
  },
  {
   "cell_type": "code",
   "execution_count": 6,
   "id": "c1abe2a2-579e-4819-891d-1f1d0276c1b4",
   "metadata": {},
   "outputs": [],
   "source": [
    "result_search_2 = re.search(\"pattern\", \"lorem ipsum dolor\")"
   ]
  },
  {
   "cell_type": "code",
   "execution_count": 8,
   "id": "e5b5f275-a379-4a3e-922e-8a91383b1638",
   "metadata": {},
   "outputs": [
    {
     "name": "stdout",
     "output_type": "stream",
     "text": [
      "None\n"
     ]
    }
   ],
   "source": [
    "print(result_search_2)"
   ]
  },
  {
   "cell_type": "code",
   "execution_count": 12,
   "id": "6727f922-8e50-4d15-8a50-78fc91f023f3",
   "metadata": {},
   "outputs": [],
   "source": [
    "string = r\"ahmed was able to help me find the items I needed quickly\""
   ]
  },
  {
   "cell_type": "code",
   "execution_count": 13,
   "id": "d6ae7427-261a-4f63-ad00-38dbd2d48946",
   "metadata": {},
   "outputs": [],
   "source": [
    "new_string = re.sub(\"ahmed\", \"Ahmed\", string)"
   ]
  },
  {
   "cell_type": "code",
   "execution_count": 14,
   "id": "f5751a42-4b09-46d4-8533-3a4598a42a32",
   "metadata": {},
   "outputs": [
    {
     "name": "stdout",
     "output_type": "stream",
     "text": [
      "Ahmed was able to help me find the items I needed quickly\n"
     ]
    }
   ],
   "source": [
    "print(new_string)"
   ]
  },
  {
   "cell_type": "code",
   "execution_count": 24,
   "id": "51ed7341-fa11-4c02-85ec-c76ad550b8e3",
   "metadata": {},
   "outputs": [],
   "source": [
    "customer_reviews = [\"sam was a great help to me in the store\",\n",
    "                    \"the cashier was very rude to me, I think her name was eleanor\",\n",
    "                    \"amazing work from sadeen!\",\n",
    "                    \"sarah was able to help me find the items I needed quickly\",\n",
    "                    \"lucy is such a great addition to the team\",\n",
    "                    \"great service fron sara she found me what i wanted\"]"
   ]
  },
  {
   "cell_type": "code",
   "execution_count": 25,
   "id": "452e3a5e-c6b4-4ed9-b29e-d9967420d2bf",
   "metadata": {},
   "outputs": [],
   "source": [
    "sarah_reviews = []"
   ]
  },
  {
   "cell_type": "code",
   "execution_count": 26,
   "id": "e326f8c7-b353-4c83-a42b-303a9e410680",
   "metadata": {},
   "outputs": [],
   "source": [
    "pattern_to_find = r\"sarah?\""
   ]
  },
  {
   "cell_type": "code",
   "execution_count": 27,
   "id": "48539c96-8246-4f62-ae8a-46f7f9b779cd",
   "metadata": {},
   "outputs": [],
   "source": [
    "for s in customer_reviews:\n",
    "    if(re.search(pattern_to_find, s)):\n",
    "        sarah_reviews.append(s)"
   ]
  },
  {
   "cell_type": "code",
   "execution_count": 28,
   "id": "245bb35f-6918-43b9-9f2e-b6b547ca7ddb",
   "metadata": {},
   "outputs": [
    {
     "name": "stdout",
     "output_type": "stream",
     "text": [
      "['sarah was able to help me find the items I needed quickly', 'great service fron sara she found me what i wanted']\n"
     ]
    }
   ],
   "source": [
    "print(sarah_reviews)"
   ]
  },
  {
   "cell_type": "code",
   "execution_count": 30,
   "id": "9c5982a7-3568-440a-9c18-a7df4f4abeb2",
   "metadata": {},
   "outputs": [],
   "source": [
    "needwant_reviews = []\n",
    "pattern_to_find = r\"(need|want)ed\""
   ]
  },
  {
   "cell_type": "code",
   "execution_count": 31,
   "id": "4d9fbedc-bd2b-411c-90ef-f245648918ee",
   "metadata": {},
   "outputs": [],
   "source": [
    "for s in customer_reviews:\n",
    "    if(re.search(pattern_to_find, s)):\n",
    "        needwant_reviews.append(s)"
   ]
  },
  {
   "cell_type": "code",
   "execution_count": 33,
   "id": "6865fcff-f707-4bb4-b2a7-606fa57a441e",
   "metadata": {},
   "outputs": [
    {
     "name": "stdout",
     "output_type": "stream",
     "text": [
      "['sarah was able to help me find the items I needed quickly', 'great service fron sara she found me what i wanted']\n"
     ]
    }
   ],
   "source": [
    "print(needwant_reviews)"
   ]
  },
  {
   "cell_type": "code",
   "execution_count": 34,
   "id": "d68f9c7a-1510-4c57-b586-36384663acfc",
   "metadata": {},
   "outputs": [],
   "source": [
    "no_punct_reviews = []\n",
    "pattern_to_find = r\"[^\\w\\s]\""
   ]
  },
  {
   "cell_type": "code",
   "execution_count": null,
   "id": "42e5e83c-f3a1-4e15-ab6a-207144fca8e4",
   "metadata": {},
   "outputs": [],
   "source": [
    "for s in customer_reviews:\n",
    "    temp_str = re.sub(pattern_to_find, \"\", )"
   ]
  }
 ],
 "metadata": {
  "kernelspec": {
   "display_name": "Python 3 (ipykernel)",
   "language": "python",
   "name": "python3"
  },
  "language_info": {
   "codemirror_mode": {
    "name": "ipython",
    "version": 3
   },
   "file_extension": ".py",
   "mimetype": "text/x-python",
   "name": "python",
   "nbconvert_exporter": "python",
   "pygments_lexer": "ipython3",
   "version": "3.12.4"
  }
 },
 "nbformat": 4,
 "nbformat_minor": 5
}
