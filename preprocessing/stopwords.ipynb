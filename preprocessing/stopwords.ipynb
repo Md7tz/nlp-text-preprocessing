{
 "cells": [
  {
   "cell_type": "code",
   "execution_count": 1,
   "id": "c060d4cc-58fe-4da3-be9b-b1f657ef8500",
   "metadata": {},
   "outputs": [
    {
     "name": "stderr",
     "output_type": "stream",
     "text": [
      "[nltk_data] Downloading package stopwords to\n",
      "[nltk_data]     C:\\Users\\Medhat\\AppData\\Roaming\\nltk_data...\n",
      "[nltk_data]   Package stopwords is already up-to-date!\n"
     ]
    }
   ],
   "source": [
    "import nltk\n",
    "nltk.download('stopwords')\n",
    "from nltk.corpus import stopwords"
   ]
  },
  {
   "cell_type": "code",
   "execution_count": 17,
   "id": "eaad303e-e9f8-42f7-a841-962199134f8e",
   "metadata": {},
   "outputs": [],
   "source": [
    "en_stopwords = set(stopwords.words('english'))"
   ]
  },
  {
   "cell_type": "code",
   "execution_count": 19,
   "id": "dadc57ae-8a86-4467-a3ab-db29d6371b81",
   "metadata": {},
   "outputs": [
    {
     "name": "stdout",
     "output_type": "stream",
     "text": [
      "{'those', 'will', \"it'll\", 'such', 'have', 'few', 'doesn', \"needn't\", 're', 'of', 'themselves', \"won't\", 'now', \"we've\", 'or', \"you've\", \"hadn't\", 'i', \"isn't\", 'weren', 'because', 'd', 'only', \"i'll\", 'before', 'mustn', 'me', 'he', \"you're\", 'my', 'too', \"hasn't\", \"he's\", 'but', 'own', 'its', 'theirs', 'at', 'she', 'during', 'on', 'hadn', 'are', 'where', 'them', 'needn', 'each', 'was', 'we', 'don', \"mustn't\", 'hers', 'him', \"weren't\", \"aren't\", 'can', 'than', 'why', 'do', 't', \"wasn't\", 's', 'be', 'all', 'our', 'more', 'which', 'the', 'her', 'between', 'isn', 'has', 'ma', 'what', \"you'll\", \"mightn't\", \"they'd\", \"i've\", 'm', 'ourselves', \"couldn't\", 'so', 'off', 'had', 'if', 'herself', 'there', \"wouldn't\", 'itself', 'haven', 'ain', 'am', \"shouldn't\", 'having', 'not', \"you'd\", \"she's\", 'o', \"we're\", 'shouldn', \"didn't\", 'aren', 'hasn', 'whom', 'yours', 'just', 'myself', 'did', \"he'd\", \"shan't\", 'down', \"we'd\", 'against', \"we'll\", 'through', 'yourselves', 'your', 'y', 'is', 'mightn', 'until', \"i'd\", \"she'd\", \"don't\", 'over', 'then', \"they'll\", 'it', 'does', 'most', 'himself', 'and', 'again', 'for', 'while', \"they've\", 'didn', 'couldn', \"he'll\", 'up', 'to', 'in', 'shan', 'doing', 'how', \"it's\", 'wasn', 'very', 'above', \"she'll\", 've', 'you', 'nor', 'about', 'their', 'under', 'that', \"it'd\", 'wouldn', 'a', 'further', 'yourself', \"should've\", 'other', \"i'm\", 'this', 'with', 'into', 'both', 'here', \"doesn't\", 'below', 'from', 'an', 'no', 'been', 'some', 'when', 'as', 'by', 'out', 'after', \"that'll\", 'won', 'll', 'once', 'were', 'who', 'his', 'same', 'these', 'being', \"they're\", 'ours', 'they', 'any', 'should', \"haven't\"} <class 'set'>\n"
     ]
    }
   ],
   "source": [
    "print(en_stopwords, type(en_stopwords))"
   ]
  },
  {
   "cell_type": "code",
   "execution_count": 20,
   "id": "89f2eb11-1bf1-4540-8a20-260eec562eb3",
   "metadata": {},
   "outputs": [],
   "source": [
    "sentence = \"it was too far to go to the shop and he did not want her to walk\""
   ]
  },
  {
   "cell_type": "code",
   "execution_count": 21,
   "id": "679d76c3-e184-4631-b219-e51339f1f2c4",
   "metadata": {},
   "outputs": [],
   "source": [
    "sentence_no_stopwords = ' '.join([word for word in sentence.split() if word not in en_stopwords])"
   ]
  },
  {
   "cell_type": "code",
   "execution_count": 22,
   "id": "ac6ffad8-0af7-4ac6-82bb-084ec484b5aa",
   "metadata": {},
   "outputs": [
    {
     "data": {
      "text/plain": [
       "'far go shop want walk'"
      ]
     },
     "execution_count": 22,
     "metadata": {},
     "output_type": "execute_result"
    }
   ],
   "source": [
    "sentence_no_stopwords"
   ]
  },
  {
   "cell_type": "code",
   "execution_count": 23,
   "id": "78266a4c-fdb8-4d7c-82b5-e165508b0bbb",
   "metadata": {},
   "outputs": [],
   "source": [
    "en_stopwords.discard('did')\n",
    "en_stopwords.discard('not')\n",
    "en_stopwords.add('go')"
   ]
  },
  {
   "cell_type": "code",
   "execution_count": 24,
   "id": "6108ed07-663b-41cd-923b-cdbb353b82a7",
   "metadata": {},
   "outputs": [],
   "source": [
    "sentence_no_stopwords_custom = ' '.join([word for word in sentence.split() if word not in en_stopwords])"
   ]
  },
  {
   "cell_type": "code",
   "execution_count": 25,
   "id": "ce528a38-6b75-4cc4-afab-68ceb488f873",
   "metadata": {},
   "outputs": [
    {
     "data": {
      "text/plain": [
       "'far shop did not want walk'"
      ]
     },
     "execution_count": 25,
     "metadata": {},
     "output_type": "execute_result"
    }
   ],
   "source": [
    "sentence_no_stopwords_custom"
   ]
  }
 ],
 "metadata": {
  "kernelspec": {
   "display_name": "Python 3 (ipykernel)",
   "language": "python",
   "name": "python3"
  },
  "language_info": {
   "codemirror_mode": {
    "name": "ipython",
    "version": 3
   },
   "file_extension": ".py",
   "mimetype": "text/x-python",
   "name": "python",
   "nbconvert_exporter": "python",
   "pygments_lexer": "ipython3",
   "version": "3.12.4"
  }
 },
 "nbformat": 4,
 "nbformat_minor": 5
}
