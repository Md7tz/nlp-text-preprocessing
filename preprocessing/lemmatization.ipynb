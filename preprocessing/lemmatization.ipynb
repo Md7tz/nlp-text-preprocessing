{
 "cells": [
  {
   "cell_type": "code",
   "execution_count": 12,
   "id": "5662fa0e-4192-4874-8f33-dd983aa756f6",
   "metadata": {},
   "outputs": [],
   "source": [
    "tokens = [\"running\", \"ran\", \"feet\", \"better\"]"
   ]
  },
  {
   "cell_type": "code",
   "execution_count": 6,
   "id": "e7cd0480-361d-4987-aa58-3a4c7bd2956e",
   "metadata": {},
   "outputs": [
    {
     "name": "stderr",
     "output_type": "stream",
     "text": [
      "[nltk_data] Downloading package wordnet to\n",
      "[nltk_data]     C:\\Users\\Medhat\\AppData\\Roaming\\nltk_data...\n"
     ]
    }
   ],
   "source": [
    "nltk.download('wordnet')\n",
    "from nltk.stem import WordNetLemmatizer"
   ]
  },
  {
   "cell_type": "code",
   "execution_count": 7,
   "id": "90a1bfdd-cab1-477f-801f-0ffe4a42816a",
   "metadata": {},
   "outputs": [],
   "source": [
    "lemmatizer = WordNetLemmatizer()"
   ]
  },
  {
   "cell_type": "code",
   "execution_count": 14,
   "id": "3828c444-204b-427b-9f4d-49a4afd4345c",
   "metadata": {},
   "outputs": [
    {
     "name": "stdout",
     "output_type": "stream",
     "text": [
      "running : run\n",
      "ran : run\n",
      "feet : feet\n",
      "better : better\n"
     ]
    }
   ],
   "source": [
    "for t in tokens:\n",
    "    print(t, \":\", lemmatizer.lemmatize(t, pos='v'))"
   ]
  },
  {
   "cell_type": "code",
   "execution_count": 15,
   "id": "9c34ac96-79cc-4efb-a624-d77b902f4869",
   "metadata": {},
   "outputs": [
    {
     "name": "stdout",
     "output_type": "stream",
     "text": [
      "running : running\n",
      "ran : ran\n",
      "feet : foot\n",
      "better : better\n"
     ]
    }
   ],
   "source": [
    "for t in tokens:\n",
    "    print(t, \":\", lemmatizer.lemmatize(t, pos='n'))"
   ]
  }
 ],
 "metadata": {
  "kernelspec": {
   "display_name": "Python 3 (ipykernel)",
   "language": "python",
   "name": "python3"
  },
  "language_info": {
   "codemirror_mode": {
    "name": "ipython",
    "version": 3
   },
   "file_extension": ".py",
   "mimetype": "text/x-python",
   "name": "python",
   "nbconvert_exporter": "python",
   "pygments_lexer": "ipython3",
   "version": "3.12.4"
  }
 },
 "nbformat": 4,
 "nbformat_minor": 5
}
